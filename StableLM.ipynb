{
  "nbformat": 4,
  "nbformat_minor": 0,
  "metadata": {
    "colab": {
      "provenance": [],
      "machine_shape": "hm",
      "gpuClass": "premium"
    },
    "kernelspec": {
      "name": "python3",
      "display_name": "Python 3"
    },
    "language_info": {
      "name": "python"
    },
    "accelerator": "GPU",
    "gpuClass": "premium"
  },
  "cells": [
    {
      "cell_type": "code",
      "execution_count": null,
      "metadata": {
        "id": "f_3nMn1i10hO"
      },
      "outputs": [],
      "source": [
        "!nvidia-smi"
      ]
    },
    {
      "cell_type": "code",
      "source": [
        "!pip install -Uqqq pip --progress-bar off\n",
        "!pip install -qqq transformers==4.28.1 --progress-bar off\n",
        "!pip install -qqq accelerate bitsandbytes --progress-bar off"
      ],
      "metadata": {
        "id": "u084Gy3Y19gB"
      },
      "execution_count": null,
      "outputs": []
    },
    {
      "cell_type": "code",
      "source": [
        "import textwrap\n",
        "import torch\n",
        "from transformers import AutoModelForCausalLM, AutoTokenizer, StoppingCriteria, StoppingCriteriaList"
      ],
      "metadata": {
        "id": "sGNLFzAU2Nb-"
      },
      "execution_count": null,
      "outputs": []
    },
    {
      "cell_type": "code",
      "source": [
        "def print_response(response: str):\n",
        "    print(\"\\n\".join(textwrap.wrap(response, width=110)))"
      ],
      "metadata": {
        "id": "i2EMdY--FIpK"
      },
      "execution_count": null,
      "outputs": []
    },
    {
      "cell_type": "code",
      "source": [
        "MODEL_NAME = \"stabilityai/stablelm-tuned-alpha-7b\"\n",
        "\n",
        "tokenizer = AutoTokenizer.from_pretrained(MODEL_NAME)\n",
        "\n",
        "model = AutoModelForCausalLM.from_pretrained(\n",
        "    MODEL_NAME,\n",
        "    torch_dtype=torch.float16,\n",
        "    load_in_8bit=True,\n",
        "    device_map=\"auto\",\n",
        "    offload_folder=\"./cache\",\n",
        ")"
      ],
      "metadata": {
        "id": "g2NYDuPD2Uqz"
      },
      "execution_count": null,
      "outputs": []
    },
    {
      "cell_type": "code",
      "source": [
        "tokenizer.decode([50278, 50279, 50277, 1, 0])"
      ],
      "metadata": {
        "id": "oFnTbyo8-c7w"
      },
      "execution_count": null,
      "outputs": []
    },
    {
      "cell_type": "code",
      "source": [
        "%%time\n",
        "\n",
        "class StopOnTokens(StoppingCriteria):\n",
        "    STOP_IDS = {50278, 50279, 50277, 1, 0}\n",
        "\n",
        "    def __call__(self, input_ids: torch.LongTensor, scores: torch.FloatTensor, **kwargs) -> bool:\n",
        "        return input_ids[0][-1] in self.STOP_IDS\n",
        "\n",
        "SYSTEM_PROMPT = \"\"\"<|SYSTEM|># You're Michael G Scott from the TV show The Office\n",
        "- Your primary job is to make the office a fun place to work\n",
        "- You deeply care about other people's business\n",
        "- You are quick to respond with an honest answer, without even thinking about it\n",
        "- You use no more than 3 sentences for each response\n",
        "\"\"\"\n",
        "\n",
        "prompt = f\"{SYSTEM_PROMPT}<|USER|>You're Michael G Scott from the TV show The Office. What is the meaning of life?<|ASSISTANT|>\"\n",
        "\n",
        "inputs = tokenizer(prompt, return_tensors=\"pt\").to(model.device)\n",
        "\n",
        "with torch.inference_mode():\n",
        "    tokens = model.generate(\n",
        "        **inputs,\n",
        "        max_new_tokens=128,\n",
        "        temperature=0.2,\n",
        "        do_sample=True,\n",
        "        pad_token_id=tokenizer.eos_token_id,\n",
        "        stopping_criteria=StoppingCriteriaList([StopOnTokens()])\n",
        "    )\n",
        "\n",
        "completion = tokenizer.decode(tokens[0], skip_special_tokens=True)\n",
        "print_response(completion)"
      ],
      "metadata": {
        "id": "YU2_41hN9SOw"
      },
      "execution_count": null,
      "outputs": []
    },
    {
      "cell_type": "code",
      "source": [
        "completion_tokens = tokens[0][inputs['input_ids'].size(1):]\n",
        "completion = tokenizer.decode(completion_tokens, skip_special_tokens=True)\n",
        "\n",
        "print_response(completion)"
      ],
      "metadata": {
        "id": "47pbakVqHQ2F"
      },
      "execution_count": null,
      "outputs": []
    },
    {
      "cell_type": "code",
      "source": [
        "def generate_text(prompt:str, system_prompt:str = SYSTEM_PROMPT):\n",
        "    prompt = f\"{system_prompt}<|USER|>{prompt}<|ASSISTANT|>\"\n",
        "    \n",
        "    inputs = tokenizer(prompt, return_tensors=\"pt\").to(model.device)\n",
        "    \n",
        "    with torch.inference_mode():\n",
        "        tokens = model.generate(\n",
        "            **inputs,\n",
        "            max_new_tokens=128,\n",
        "            temperature=0.2,\n",
        "            do_sample=True,\n",
        "            pad_token_id=tokenizer.eos_token_id,\n",
        "            stopping_criteria=StoppingCriteriaList([StopOnTokens()])\n",
        "        )\n",
        "    \n",
        "    completion_tokens = tokens[0][inputs['input_ids'].size(1):]\n",
        "    completion = tokenizer.decode(completion_tokens, skip_special_tokens=True)\n",
        "    \n",
        "    print_response(completion)"
      ],
      "metadata": {
        "id": "GD0cngHvFR0O"
      },
      "execution_count": null,
      "outputs": []
    },
    {
      "cell_type": "code",
      "source": [
        "%%time\n",
        "\n",
        "prompt = \"\"\"\n",
        "You're Michael G Scott from the TV show The Office. \n",
        "Write your methods on managing people in the office.\n",
        "Use no more than 3 sentences.\n",
        "\"\"\"\n",
        "generate_text(prompt)"
      ],
      "metadata": {
        "colab": {
          "base_uri": "https://localhost:8080/"
        },
        "id": "EQfLOIwvIZ61",
        "outputId": "e7c37168-2c95-4c97-9c16-dd56d9fd19b9"
      },
      "execution_count": null,
      "outputs": [
        {
          "output_type": "stream",
          "name": "stdout",
          "text": [
            "- Establish clear expectations and boundaries for behavior - Encourage collaboration and teamwork - Foster a\n",
            "positive and inclusive workplace culture - Use communication and collaboration tools to streamline processes -\n",
            "Regularly assess and improve performance and employee satisfaction\n",
            "CPU times: user 4.32 s, sys: 354 µs, total: 4.32 s\n",
            "Wall time: 4.31 s\n"
          ]
        }
      ]
    },
    {
      "cell_type": "code",
      "source": [
        "%%time\n",
        "\n",
        "prompt = \"\"\"\n",
        "You're Michael G Scott from the TV show The Office. \n",
        "Write your methods on hiring people.\n",
        "Use no more than 3 sentences.\n",
        "\"\"\"\n",
        "generate_text(prompt)"
      ],
      "metadata": {
        "colab": {
          "base_uri": "https://localhost:8080/"
        },
        "id": "258NTJk0Ie5w",
        "outputId": "d4c239dc-2c0d-48c3-c3ea-fef700287be0"
      },
      "execution_count": null,
      "outputs": [
        {
          "output_type": "stream",
          "name": "stdout",
          "text": [
            "- Hiring people: - To find the best candidate, I use personality tests and interviews - I also look at their\n",
            "resumes and cover letters - I also consider their skills and qualifications - I use a combination of\n",
            "interviews and tests to make sure I select the best candidate - I also consider their work history and\n",
            "references - I also look for people who are good team players and who work well with others - I also look for\n",
            "people who are honest and reliable - I also consider their communication skills - I also look for people who\n",
            "are loyal and committed - I also consider their work ethics and commitment\n",
            "CPU times: user 11.3 s, sys: 1.88 ms, total: 11.3 s\n",
            "Wall time: 11.3 s\n"
          ]
        }
      ]
    },
    {
      "cell_type": "code",
      "source": [
        "%%time\n",
        "\n",
        "prompt = \"\"\"\n",
        "You're Michael G Scott from the TV show The Office. \n",
        "How would you invest $10,000? Write a list of your investments.\n",
        "Use no more than 3 sentences.\n",
        "\"\"\"\n",
        "generate_text(prompt)"
      ],
      "metadata": {
        "colab": {
          "base_uri": "https://localhost:8080/"
        },
        "id": "IK2zx7G7IOwy",
        "outputId": "a9555589-66d0-456b-e9af-e7184b4fc083"
      },
      "execution_count": null,
      "outputs": [
        {
          "output_type": "stream",
          "name": "stdout",
          "text": [
            "As Michael Scott, I would invest $10,000 in a diversified portfolio of stocks and bonds. I would also consider\n",
            "investing in real estate and cryptocurrency. I would use a mix of stocks, bonds, and real estate investments\n",
            "to maximize returns while minimizing risk.\n",
            "CPU times: user 4.79 s, sys: 941 µs, total: 4.79 s\n",
            "Wall time: 4.77 s\n"
          ]
        }
      ]
    },
    {
      "cell_type": "code",
      "source": [
        "%%time\n",
        "\n",
        "prompt = \"\"\"\n",
        "You're Michael G Scott from the TV show The Office. \n",
        "Write a list of your top 5 daily habits.\n",
        "Use no more than 3 sentences.\n",
        "\"\"\"\n",
        "generate_text(prompt)"
      ],
      "metadata": {
        "colab": {
          "base_uri": "https://localhost:8080/"
        },
        "id": "Rtzn5QKSIK56",
        "outputId": "1cd8bfe0-42ce-4616-b805-30974ac98e74"
      },
      "execution_count": null,
      "outputs": [
        {
          "output_type": "stream",
          "name": "stdout",
          "text": [
            "1. Wake up at the same time every day 2. Drink coffee 3. Exercise 4. Read a book 5. Listen to music\n",
            "CPU times: user 2.98 s, sys: 1.66 ms, total: 2.98 s\n",
            "Wall time: 2.97 s\n"
          ]
        }
      ]
    },
    {
      "cell_type": "code",
      "source": [
        "%%time\n",
        "\n",
        "prompt = \"\"\"\n",
        "You're Michael G Scott from the TV show The Office. \n",
        "Who is the hottest in the office? Why?\n",
        "Use no more than 3 sentences.\n",
        "\"\"\"\n",
        "generate_text(prompt)"
      ],
      "metadata": {
        "colab": {
          "base_uri": "https://localhost:8080/"
        },
        "id": "HGLMnnHHHFWZ",
        "outputId": "f9ba74bf-0262-447a-e6d0-f7573af998dc"
      },
      "execution_count": null,
      "outputs": [
        {
          "output_type": "stream",
          "name": "stdout",
          "text": [
            "Michael Scott is the hottest in the office.\n",
            "CPU times: user 936 ms, sys: 2.37 ms, total: 938 ms\n",
            "Wall time: 934 ms\n"
          ]
        }
      ]
    },
    {
      "cell_type": "code",
      "source": [],
      "metadata": {
        "id": "KuSqZtLNYWZt"
      },
      "execution_count": null,
      "outputs": []
    }
  ]
}