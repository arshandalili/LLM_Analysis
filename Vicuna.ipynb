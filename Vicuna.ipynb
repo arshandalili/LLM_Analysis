{
  "nbformat": 4,
  "nbformat_minor": 0,
  "metadata": {
    "colab": {
      "provenance": [],
      "gpuType": "T4"
    },
    "kernelspec": {
      "name": "python3",
      "display_name": "Python 3"
    },
    "language_info": {
      "name": "python"
    },
    "accelerator": "GPU",
    "gpuClass": "standard"
  },
  "cells": [
    {
      "cell_type": "code",
      "execution_count": null,
      "metadata": {
        "id": "mI9v281eMRjs"
      },
      "outputs": [],
      "source": [
        "!pip3 install fschat"
      ]
    },
    {
      "cell_type": "code",
      "source": [
        "!wget https://agi.gpt4.org/llama/LLaMA/tokenizer.model"
      ],
      "metadata": {
        "colab": {
          "base_uri": "https://localhost:8080/"
        },
        "id": "H6eOGfYqM09D",
        "outputId": "bd60280e-2805-4113-9dfb-5d0525add595"
      },
      "execution_count": null,
      "outputs": [
        {
          "output_type": "stream",
          "name": "stdout",
          "text": [
            "--2023-05-22 11:24:08--  https://agi.gpt4.org/llama/LLaMA/tokenizer.model\n",
            "Resolving agi.gpt4.org (agi.gpt4.org)... 172.67.222.91, 104.21.94.104, 2606:4700:3037::6815:5e68, ...\n",
            "Connecting to agi.gpt4.org (agi.gpt4.org)|172.67.222.91|:443... connected.\n",
            "HTTP request sent, awaiting response... 200 OK\n",
            "Length: 499723 (488K) [application/octet-stream]\n",
            "Saving to: ‘tokenizer.model’\n",
            "\n",
            "tokenizer.model     100%[===================>] 488.01K  --.-KB/s    in 0.04s   \n",
            "\n",
            "2023-05-22 11:24:09 (11.1 MB/s) - ‘tokenizer.model’ saved [499723/499723]\n",
            "\n"
          ]
        }
      ]
    },
    {
      "cell_type": "code",
      "source": [
        "!wget https://agi.gpt4.org/llama/LLaMA/tokenizer_checklist.chk\n",
        "!wget https://agi.gpt4.org/llama/LLaMA/13B/consolidated.00.pth\n",
        "!wget https://agi.gpt4.org/llama/LLaMA/13B/consolidated.01.pth\n",
        "!wget https://agi.gpt4.org/llama/LLaMA/13B/params.json\n",
        "!wget https://agi.gpt4.org/llama/LLaMA/13B/checklist.chk"
      ],
      "metadata": {
        "colab": {
          "base_uri": "https://localhost:8080/"
        },
        "id": "wBb1SrX6M1o_",
        "outputId": "17b5da08-0e9b-4f2f-8c19-9fd5d445e13f"
      },
      "execution_count": null,
      "outputs": [
        {
          "output_type": "stream",
          "name": "stdout",
          "text": [
            "--2023-05-22 11:25:23--  https://agi.gpt4.org/llama/LLaMA/tokenizer_checklist.chk\n",
            "Resolving agi.gpt4.org (agi.gpt4.org)... 104.21.94.104, 172.67.222.91, 2606:4700:3037::6815:5e68, ...\n",
            "Connecting to agi.gpt4.org (agi.gpt4.org)|104.21.94.104|:443... connected.\n",
            "HTTP request sent, awaiting response... 200 OK\n",
            "Length: 50 [application/octet-stream]\n",
            "Saving to: ‘tokenizer_checklist.chk’\n",
            "\n",
            "\rtokenizer_checklist   0%[                    ]       0  --.-KB/s               \rtokenizer_checklist 100%[===================>]      50  --.-KB/s    in 0s      \n",
            "\n",
            "2023-05-22 11:25:23 (11.8 MB/s) - ‘tokenizer_checklist.chk’ saved [50/50]\n",
            "\n",
            "--2023-05-22 11:25:23--  https://agi.gpt4.org/llama/LLaMA/13B/consolidated.00.pth\n",
            "Resolving agi.gpt4.org (agi.gpt4.org)... 104.21.94.104, 172.67.222.91, 2606:4700:3037::6815:5e68, ...\n",
            "Connecting to agi.gpt4.org (agi.gpt4.org)|104.21.94.104|:443... connected.\n",
            "HTTP request sent, awaiting response... 200 OK\n",
            "Length: 13016334699 (12G) [application/octet-stream]\n",
            "Saving to: ‘consolidated.00.pth’\n",
            "\n",
            "consolidated.00.pth 100%[===================>]  12.12G  67.3MB/s    in 2m 56s  \n",
            "\n",
            "2023-05-22 11:28:19 (70.7 MB/s) - ‘consolidated.00.pth’ saved [13016334699/13016334699]\n",
            "\n",
            "--2023-05-22 11:28:19--  https://agi.gpt4.org/llama/LLaMA/13B/consolidated.01.pth\n",
            "Resolving agi.gpt4.org (agi.gpt4.org)... 104.21.94.104, 172.67.222.91, 2606:4700:3037::6815:5e68, ...\n",
            "Connecting to agi.gpt4.org (agi.gpt4.org)|104.21.94.104|:443... connected.\n",
            "HTTP request sent, awaiting response... 200 OK\n",
            "Length: 13016334699 (12G) [application/octet-stream]\n",
            "Saving to: ‘consolidated.01.pth’\n",
            "\n",
            "consolidated.01.pth 100%[===================>]  12.12G  57.0MB/s    in 5m 17s  \n",
            "\n",
            "2023-05-22 11:33:36 (39.2 MB/s) - ‘consolidated.01.pth’ saved [13016334699/13016334699]\n",
            "\n",
            "--2023-05-22 11:33:37--  https://agi.gpt4.org/llama/LLaMA/13B/params.json\n",
            "Resolving agi.gpt4.org (agi.gpt4.org)... 172.67.222.91, 104.21.94.104, 2606:4700:3037::6815:5e68, ...\n",
            "Connecting to agi.gpt4.org (agi.gpt4.org)|172.67.222.91|:443... connected.\n",
            "HTTP request sent, awaiting response... 200 OK\n",
            "Length: unspecified [application/json]\n",
            "Saving to: ‘params.json’\n",
            "\n",
            "params.json             [ <=>                ]     101  --.-KB/s    in 0s      \n",
            "\n",
            "2023-05-22 11:33:37 (9.62 MB/s) - ‘params.json’ saved [101]\n",
            "\n",
            "--2023-05-22 11:33:37--  https://agi.gpt4.org/llama/LLaMA/13B/checklist.chk\n",
            "Resolving agi.gpt4.org (agi.gpt4.org)... 172.67.222.91, 104.21.94.104, 2606:4700:3037::6815:5e68, ...\n",
            "Connecting to agi.gpt4.org (agi.gpt4.org)|172.67.222.91|:443... connected.\n",
            "HTTP request sent, awaiting response... 200 OK\n",
            "Length: 154 [application/octet-stream]\n",
            "Saving to: ‘checklist.chk’\n",
            "\n",
            "checklist.chk       100%[===================>]     154  --.-KB/s    in 0s      \n",
            "\n",
            "2023-05-22 11:33:37 (38.4 MB/s) - ‘checklist.chk’ saved [154/154]\n",
            "\n"
          ]
        }
      ]
    },
    {
      "cell_type": "code",
      "source": [
        "!git lfs install\n",
        "!git clone https://huggingface.co/lmsys/vicuna-13b-delta-v1.1"
      ],
      "metadata": {
        "id": "KXqWrOtzNO7S"
      },
      "execution_count": null,
      "outputs": []
    },
    {
      "cell_type": "code",
      "source": [
        "!rm -r LLaMA"
      ],
      "metadata": {
        "id": "HRkoktsEPpSy"
      },
      "execution_count": null,
      "outputs": []
    },
    {
      "cell_type": "code",
      "source": [
        "!pip install kaggle"
      ],
      "metadata": {
        "colab": {
          "base_uri": "https://localhost:8080/"
        },
        "id": "oBZUZUTCSQ7H",
        "outputId": "7164b0f6-8293-4d29-d72d-8d90cd08343d"
      },
      "execution_count": null,
      "outputs": [
        {
          "output_type": "stream",
          "name": "stdout",
          "text": [
            "Looking in indexes: https://pypi.org/simple, https://us-python.pkg.dev/colab-wheels/public/simple/\n",
            "Requirement already satisfied: kaggle in /usr/local/lib/python3.10/dist-packages (1.5.13)\n",
            "Requirement already satisfied: six>=1.10 in /usr/local/lib/python3.10/dist-packages (from kaggle) (1.16.0)\n",
            "Requirement already satisfied: certifi in /usr/local/lib/python3.10/dist-packages (from kaggle) (2022.12.7)\n",
            "Requirement already satisfied: python-dateutil in /usr/local/lib/python3.10/dist-packages (from kaggle) (2.8.2)\n",
            "Requirement already satisfied: requests in /usr/local/lib/python3.10/dist-packages (from kaggle) (2.27.1)\n",
            "Requirement already satisfied: tqdm in /usr/local/lib/python3.10/dist-packages (from kaggle) (4.65.0)\n",
            "Requirement already satisfied: python-slugify in /usr/local/lib/python3.10/dist-packages (from kaggle) (8.0.1)\n",
            "Requirement already satisfied: urllib3 in /usr/local/lib/python3.10/dist-packages (from kaggle) (1.26.15)\n",
            "Requirement already satisfied: text-unidecode>=1.3 in /usr/local/lib/python3.10/dist-packages (from python-slugify->kaggle) (1.3)\n",
            "Requirement already satisfied: charset-normalizer~=2.0.0 in /usr/local/lib/python3.10/dist-packages (from requests->kaggle) (2.0.12)\n",
            "Requirement already satisfied: idna<4,>=2.5 in /usr/local/lib/python3.10/dist-packages (from requests->kaggle) (3.4)\n"
          ]
        }
      ]
    },
    {
      "cell_type": "code",
      "source": [
        "from google.colab import files\n",
        "\n",
        "uploaded = files.upload()\n",
        "\n",
        "for fn in uploaded.keys():\n",
        "  print('User uploaded file \"{name}\" with length {length} bytes'.format(\n",
        "      name=fn, length=len(uploaded[fn])))\n",
        "  \n",
        "# Then move kaggle.json into the folder where the API expects to find it.\n",
        "!mkdir -p ~/.kaggle/ && mv kaggle.json ~/.kaggle/ && chmod 600 ~/.kaggle/kaggle.json"
      ],
      "metadata": {
        "colab": {
          "base_uri": "https://localhost:8080/",
          "height": 91
        },
        "id": "ZL714rLsUm9g",
        "outputId": "df3c9ddd-f3a8-4f16-9b6d-56b895b631ad"
      },
      "execution_count": null,
      "outputs": [
        {
          "output_type": "display_data",
          "data": {
            "text/plain": [
              "<IPython.core.display.HTML object>"
            ],
            "text/html": [
              "\n",
              "     <input type=\"file\" id=\"files-4f202af6-cd62-44c5-bfab-458fcad41c5e\" name=\"files[]\" multiple disabled\n",
              "        style=\"border:none\" />\n",
              "     <output id=\"result-4f202af6-cd62-44c5-bfab-458fcad41c5e\">\n",
              "      Upload widget is only available when the cell has been executed in the\n",
              "      current browser session. Please rerun this cell to enable.\n",
              "      </output>\n",
              "      <script>// Copyright 2017 Google LLC\n",
              "//\n",
              "// Licensed under the Apache License, Version 2.0 (the \"License\");\n",
              "// you may not use this file except in compliance with the License.\n",
              "// You may obtain a copy of the License at\n",
              "//\n",
              "//      http://www.apache.org/licenses/LICENSE-2.0\n",
              "//\n",
              "// Unless required by applicable law or agreed to in writing, software\n",
              "// distributed under the License is distributed on an \"AS IS\" BASIS,\n",
              "// WITHOUT WARRANTIES OR CONDITIONS OF ANY KIND, either express or implied.\n",
              "// See the License for the specific language governing permissions and\n",
              "// limitations under the License.\n",
              "\n",
              "/**\n",
              " * @fileoverview Helpers for google.colab Python module.\n",
              " */\n",
              "(function(scope) {\n",
              "function span(text, styleAttributes = {}) {\n",
              "  const element = document.createElement('span');\n",
              "  element.textContent = text;\n",
              "  for (const key of Object.keys(styleAttributes)) {\n",
              "    element.style[key] = styleAttributes[key];\n",
              "  }\n",
              "  return element;\n",
              "}\n",
              "\n",
              "// Max number of bytes which will be uploaded at a time.\n",
              "const MAX_PAYLOAD_SIZE = 100 * 1024;\n",
              "\n",
              "function _uploadFiles(inputId, outputId) {\n",
              "  const steps = uploadFilesStep(inputId, outputId);\n",
              "  const outputElement = document.getElementById(outputId);\n",
              "  // Cache steps on the outputElement to make it available for the next call\n",
              "  // to uploadFilesContinue from Python.\n",
              "  outputElement.steps = steps;\n",
              "\n",
              "  return _uploadFilesContinue(outputId);\n",
              "}\n",
              "\n",
              "// This is roughly an async generator (not supported in the browser yet),\n",
              "// where there are multiple asynchronous steps and the Python side is going\n",
              "// to poll for completion of each step.\n",
              "// This uses a Promise to block the python side on completion of each step,\n",
              "// then passes the result of the previous step as the input to the next step.\n",
              "function _uploadFilesContinue(outputId) {\n",
              "  const outputElement = document.getElementById(outputId);\n",
              "  const steps = outputElement.steps;\n",
              "\n",
              "  const next = steps.next(outputElement.lastPromiseValue);\n",
              "  return Promise.resolve(next.value.promise).then((value) => {\n",
              "    // Cache the last promise value to make it available to the next\n",
              "    // step of the generator.\n",
              "    outputElement.lastPromiseValue = value;\n",
              "    return next.value.response;\n",
              "  });\n",
              "}\n",
              "\n",
              "/**\n",
              " * Generator function which is called between each async step of the upload\n",
              " * process.\n",
              " * @param {string} inputId Element ID of the input file picker element.\n",
              " * @param {string} outputId Element ID of the output display.\n",
              " * @return {!Iterable<!Object>} Iterable of next steps.\n",
              " */\n",
              "function* uploadFilesStep(inputId, outputId) {\n",
              "  const inputElement = document.getElementById(inputId);\n",
              "  inputElement.disabled = false;\n",
              "\n",
              "  const outputElement = document.getElementById(outputId);\n",
              "  outputElement.innerHTML = '';\n",
              "\n",
              "  const pickedPromise = new Promise((resolve) => {\n",
              "    inputElement.addEventListener('change', (e) => {\n",
              "      resolve(e.target.files);\n",
              "    });\n",
              "  });\n",
              "\n",
              "  const cancel = document.createElement('button');\n",
              "  inputElement.parentElement.appendChild(cancel);\n",
              "  cancel.textContent = 'Cancel upload';\n",
              "  const cancelPromise = new Promise((resolve) => {\n",
              "    cancel.onclick = () => {\n",
              "      resolve(null);\n",
              "    };\n",
              "  });\n",
              "\n",
              "  // Wait for the user to pick the files.\n",
              "  const files = yield {\n",
              "    promise: Promise.race([pickedPromise, cancelPromise]),\n",
              "    response: {\n",
              "      action: 'starting',\n",
              "    }\n",
              "  };\n",
              "\n",
              "  cancel.remove();\n",
              "\n",
              "  // Disable the input element since further picks are not allowed.\n",
              "  inputElement.disabled = true;\n",
              "\n",
              "  if (!files) {\n",
              "    return {\n",
              "      response: {\n",
              "        action: 'complete',\n",
              "      }\n",
              "    };\n",
              "  }\n",
              "\n",
              "  for (const file of files) {\n",
              "    const li = document.createElement('li');\n",
              "    li.append(span(file.name, {fontWeight: 'bold'}));\n",
              "    li.append(span(\n",
              "        `(${file.type || 'n/a'}) - ${file.size} bytes, ` +\n",
              "        `last modified: ${\n",
              "            file.lastModifiedDate ? file.lastModifiedDate.toLocaleDateString() :\n",
              "                                    'n/a'} - `));\n",
              "    const percent = span('0% done');\n",
              "    li.appendChild(percent);\n",
              "\n",
              "    outputElement.appendChild(li);\n",
              "\n",
              "    const fileDataPromise = new Promise((resolve) => {\n",
              "      const reader = new FileReader();\n",
              "      reader.onload = (e) => {\n",
              "        resolve(e.target.result);\n",
              "      };\n",
              "      reader.readAsArrayBuffer(file);\n",
              "    });\n",
              "    // Wait for the data to be ready.\n",
              "    let fileData = yield {\n",
              "      promise: fileDataPromise,\n",
              "      response: {\n",
              "        action: 'continue',\n",
              "      }\n",
              "    };\n",
              "\n",
              "    // Use a chunked sending to avoid message size limits. See b/62115660.\n",
              "    let position = 0;\n",
              "    do {\n",
              "      const length = Math.min(fileData.byteLength - position, MAX_PAYLOAD_SIZE);\n",
              "      const chunk = new Uint8Array(fileData, position, length);\n",
              "      position += length;\n",
              "\n",
              "      const base64 = btoa(String.fromCharCode.apply(null, chunk));\n",
              "      yield {\n",
              "        response: {\n",
              "          action: 'append',\n",
              "          file: file.name,\n",
              "          data: base64,\n",
              "        },\n",
              "      };\n",
              "\n",
              "      let percentDone = fileData.byteLength === 0 ?\n",
              "          100 :\n",
              "          Math.round((position / fileData.byteLength) * 100);\n",
              "      percent.textContent = `${percentDone}% done`;\n",
              "\n",
              "    } while (position < fileData.byteLength);\n",
              "  }\n",
              "\n",
              "  // All done.\n",
              "  yield {\n",
              "    response: {\n",
              "      action: 'complete',\n",
              "    }\n",
              "  };\n",
              "}\n",
              "\n",
              "scope.google = scope.google || {};\n",
              "scope.google.colab = scope.google.colab || {};\n",
              "scope.google.colab._files = {\n",
              "  _uploadFiles,\n",
              "  _uploadFilesContinue,\n",
              "};\n",
              "})(self);\n",
              "</script> "
            ]
          },
          "metadata": {}
        },
        {
          "output_type": "stream",
          "name": "stdout",
          "text": [
            "Saving kaggle.json to kaggle.json\n",
            "User uploaded file \"kaggle.json\" with length 68 bytes\n"
          ]
        }
      ]
    },
    {
      "cell_type": "code",
      "source": [
        "!kaggle datasets init -p ./LLaMA"
      ],
      "metadata": {
        "colab": {
          "base_uri": "https://localhost:8080/"
        },
        "id": "5hGzf28fSmzl",
        "outputId": "1722a5bf-2b2d-4cec-f6d8-1cac3b1dad60"
      },
      "execution_count": null,
      "outputs": [
        {
          "output_type": "stream",
          "name": "stdout",
          "text": [
            "Data package template written to: ./LLaMA/dataset-metadata.json\n"
          ]
        }
      ]
    },
    {
      "cell_type": "code",
      "source": [
        "!kaggle datasets create -p ./LLaMA"
      ],
      "metadata": {
        "colab": {
          "base_uri": "https://localhost:8080/"
        },
        "id": "9foG9wBKUDvV",
        "outputId": "05debabd-fe1a-4695-e1f2-c1b2297b2a8d"
      },
      "execution_count": null,
      "outputs": [
        {
          "output_type": "stream",
          "name": "stdout",
          "text": [
            "Starting upload for file params.json\n",
            "100% 101/101 [00:00<00:00, 477B/s]\n",
            "Upload successful: params.json (101B)\n",
            "Starting upload for file checklist.chk\n",
            "100% 154/154 [00:00<00:00, 485B/s]\n",
            "Upload successful: checklist.chk (154B)\n",
            "Starting upload for file tokenizer.model\n",
            "100% 488k/488k [00:00<00:00, 2.67MB/s]\n",
            "Upload successful: tokenizer.model (488KB)\n",
            "Starting upload for file consolidated.01.pth\n",
            "100% 12.1G/12.1G [05:17<00:00, 40.9MB/s]\n",
            "Upload successful: consolidated.01.pth (12GB)\n",
            "Starting upload for file consolidated.00.pth\n",
            "100% 12.1G/12.1G [01:51<00:00, 117MB/s]\n",
            "Upload successful: consolidated.00.pth (12GB)\n",
            "Starting upload for file tokenizer_checklist.chk\n",
            "100% 50.0/50.0 [00:00<00:00, 255B/s]\n",
            "Upload successful: tokenizer_checklist.chk (50B)\n",
            "Your private Dataset is being created. Please check progress at https://www.kaggle.com/datasets/arshandalili/LLaMA-weights\n"
          ]
        }
      ]
    },
    {
      "cell_type": "code",
      "source": [
        "!rm -r LLaMA"
      ],
      "metadata": {
        "id": "jfUpc7_kXiYC"
      },
      "execution_count": null,
      "outputs": []
    },
    {
      "cell_type": "code",
      "source": [
        "!git lfs install\n",
        "!git clone https://huggingface.co/lmsys/vicuna-13b-delta-v1.1"
      ],
      "metadata": {
        "colab": {
          "base_uri": "https://localhost:8080/"
        },
        "id": "65SqD1xrYyZ2",
        "outputId": "d817306d-0c3c-4cdf-fba8-edc99825a654"
      },
      "execution_count": null,
      "outputs": [
        {
          "output_type": "stream",
          "name": "stdout",
          "text": [
            "Error: Failed to call git rev-parse --git-dir: exit status 128 \n",
            "Git LFS initialized.\n",
            "Cloning into 'vicuna-13b-delta-v1.1'...\n",
            "remote: Enumerating objects: 33, done.\u001b[K\n",
            "remote: Counting objects: 100% (7/7), done.\u001b[K\n",
            "remote: Compressing objects: 100% (7/7), done.\u001b[K\n",
            "remote: Total 33 (delta 1), reused 0 (delta 0), pack-reused 26\u001b[K\n",
            "Unpacking objects: 100% (33/33), 6.55 KiB | 838.00 KiB/s, done.\n",
            "Filtering content: 100% (4/4), 4.24 GiB | 4.03 MiB/s, done.\n",
            "Encountered 3 file(s) that may not have been copied correctly on Windows:\n",
            "\tpytorch_model-00003-of-00003.bin\n",
            "\tpytorch_model-00002-of-00003.bin\n",
            "\tpytorch_model-00001-of-00003.bin\n",
            "\n",
            "See: `git lfs help smudge` for more details.\n"
          ]
        }
      ]
    },
    {
      "cell_type": "code",
      "source": [
        "!kaggle datasets init -p ./vicuna-13b-delta-v1.1"
      ],
      "metadata": {
        "colab": {
          "base_uri": "https://localhost:8080/"
        },
        "id": "IB-bIs-dY1dC",
        "outputId": "3296b164-288a-4224-bd5e-175d94e13c2e"
      },
      "execution_count": null,
      "outputs": [
        {
          "output_type": "stream",
          "name": "stdout",
          "text": [
            "Data package template written to: ./vicuna-13b-delta-v1.1/dataset-metadata.json\n"
          ]
        }
      ]
    },
    {
      "cell_type": "code",
      "source": [
        "!kaggle datasets create -p ./vicuna-13b-delta-v1.1"
      ],
      "metadata": {
        "colab": {
          "base_uri": "https://localhost:8080/"
        },
        "id": "KX2gV26hY3LC",
        "outputId": "5bf74e25-fbf6-4736-c201-17b5c71998d2"
      },
      "execution_count": null,
      "outputs": [
        {
          "output_type": "stream",
          "name": "stdout",
          "text": [
            "Starting upload for file config.json\n",
            "100% 578/578 [00:00<00:00, 1.99kB/s]\n",
            "Upload successful: config.json (578B)\n",
            "Skipping folder: .git; use '--dir-mode' to upload folders\n",
            "Starting upload for file generation_config.json\n",
            "100% 137/137 [00:00<00:00, 658B/s]\n",
            "Upload successful: generation_config.json (137B)\n",
            "Starting upload for file tokenizer.model\n",
            "100% 488k/488k [00:00<00:00, 2.37MB/s]\n",
            "Upload successful: tokenizer.model (488KB)\n",
            "Starting upload for file .gitattributes\n",
            "100% 1.44k/1.44k [00:00<00:00, 7.55kB/s]\n",
            "Upload successful: .gitattributes (1KB)\n",
            "Starting upload for file tokenizer_config.json\n",
            "100% 727/727 [00:00<00:00, 4.29kB/s]\n",
            "Upload successful: tokenizer_config.json (727B)\n",
            "Starting upload for file README.md\n",
            "100% 1.83k/1.83k [00:00<00:00, 9.42kB/s]\n",
            "Upload successful: README.md (2KB)\n",
            "Starting upload for file pytorch_model-00003-of-00003.bin\n",
            "100% 5.75G/5.75G [00:53<00:00, 116MB/s]\n",
            "Upload successful: pytorch_model-00003-of-00003.bin (6GB)\n",
            "Starting upload for file pytorch_model-00002-of-00003.bin\n",
            "100% 9.22G/9.22G [01:25<00:00, 116MB/s]\n",
            "Upload successful: pytorch_model-00002-of-00003.bin (9GB)\n",
            "Starting upload for file pytorch_model-00001-of-00003.bin\n",
            "100% 9.27G/9.27G [01:32<00:00, 108MB/s]\n",
            "Upload successful: pytorch_model-00001-of-00003.bin (9GB)\n",
            "Starting upload for file special_tokens_map.json\n",
            "100% 411/411 [00:00<00:00, 2.09kB/s]\n",
            "Upload successful: special_tokens_map.json (411B)\n",
            "Starting upload for file pytorch_model.bin.index.json\n",
            "100% 32.7k/32.7k [00:00<00:00, 114kB/s]\n",
            "Upload successful: pytorch_model.bin.index.json (33KB)\n",
            "Your private Dataset is being created. Please check progress at https://www.kaggle.com/datasets/arshandalili/Vicuna13b\n"
          ]
        }
      ]
    },
    {
      "cell_type": "code",
      "source": [],
      "metadata": {
        "id": "YdvFHCF_Y5rO"
      },
      "execution_count": null,
      "outputs": []
    }
  ]
}